{
  "cells": [
    {
      "cell_type": "markdown",
      "source": [
        "How many businesses were founded before 1000?\n",
        "Wow! That's a lot of variation between countries. In one country, the oldest business was only founded in 1999. By contrast, the oldest business in the world was founded back in 578. That's pretty incredible that a business has survived for more than a millennium.\n",
        "\n",
        "I wonder how many other businesses there are like that."
      ],
      "metadata": {
        "id": "ZgOTGCYhBdTp"
      }
    },
    {
      "cell_type": "code",
      "source": [
        "%%sql\n",
        "\n",
        "-- Get the count of rows in businesses where the founding year was before 1000\n",
        "SELECT COUNT(business)\n",
        "FROM businesses\n",
        "WHERE year_founded < 999;"
      ],
      "metadata": {
        "id": "gbJTDNq1BRJe"
      },
      "execution_count": null,
      "outputs": []
    },
    {
      "cell_type": "code",
      "source": [
        "%%nose\n",
        "last_output = _\n",
        "\n",
        "def test_resultset():\n",
        "    try:\n",
        "        assert str(type(last_output)) == \"<class 'sql.run.ResultSet'>\"\n",
        "    except AssertionError:\n",
        "        assert False, \"Please ensure a SQL ResultSet is the output of the code cell.\"\n",
        "results = last_output.DataFrame()\n",
        "def test_shape():\n",
        "    try:\n",
        "        assert results.shape == (1, 1)\n",
        "    except AssertionError:\n",
        "        assert False, \"The results should have a single column and a single row.\"\n",
        "def test_colnames():\n",
        "    try:\n",
        "        assert results.columns.tolist() == ['count']\n",
        "    except AssertionError:\n",
        "        assert False, \"The results should have a column named `'count`.\"\n",
        "def test_count():\n",
        "    try:\n",
        "        assert last_output.DataFrame().loc[0, 'count'] == 6\n",
        "    except AssertionError:\n",
        "        assert False, \"The count of businesses founded before 1000 is incorrect.\""
      ],
      "metadata": {
        "id": "JnwXmh1CBRGl"
      },
      "execution_count": null,
      "outputs": []
    },
    {
      "cell_type": "markdown",
      "source": [
        "Which businesses were founded before 1000?\n",
        "\n",
        "Having a count is all very well, but I'd like more detail. Which businesses have been around for more than a millennium?"
      ],
      "metadata": {
        "id": "4C4ZmPqKBlHA"
      }
    },
    {
      "cell_type": "code",
      "source": [
        "%%sql\n",
        "\n",
        "-- Select all columns from businesses where the founding year was before 1000\n",
        "-- Arrange the results from oldest to newest\n",
        "SELECT *\n",
        "FROM businesses\n",
        "WHERE year_founded < 999\n",
        "ORDER BY year_founded;"
      ],
      "metadata": {
        "id": "Bk9aazN7BREI"
      },
      "execution_count": null,
      "outputs": []
    },
    {
      "cell_type": "code",
      "source": [
        "%%nose\n",
        "last_output = _\n",
        "\n",
        "def test_resultset():\n",
        "    try:\n",
        "        assert str(type(last_output)) == \"<class 'sql.run.ResultSet'>\"\n",
        "    except AssertionError:\n",
        "        assert False, \"Please ensure a SQL ResultSet is the output of the code cell.\"\n",
        "results = last_output.DataFrame()\n",
        "def test_shape():\n",
        "    try:\n",
        "        assert results.shape == (6, 4)\n",
        "    except AssertionError:\n",
        "        assert False, \"The results should have four columns and six rows.\"\n",
        "def test_colnames():\n",
        "    try:\n",
        "        assert results.columns.tolist() == ['business', 'year_founded', 'category_code', 'country_code']\n",
        "    except AssertionError:\n",
        "        assert False, \"The results should have the four columns from the `businesses` table.\"\n",
        "def test_where_year_founded_lt_1000():\n",
        "    try:\n",
        "        assert results.loc[:, 'year_founded'].max() < 1000\n",
        "    except AssertionError:\n",
        "        assert False, \"The most recent year founded is not before 1000.\"\n",
        "def test_ordered_by_year_founded():\n",
        "    try:\n",
        "        assert results.loc[:, 'year_founded'].is_monotonic\n",
        "    except AssertionError:"
      ],
      "metadata": {
        "id": "2jzaeGFtBRBs"
      },
      "execution_count": null,
      "outputs": []
    },
    {
      "cell_type": "markdown",
      "source": [
        "Exploring the categories\n",
        "\n",
        "Now we know that the oldest, continuously operating company in the world is called Kongō Gumi. But was does that company do? The category codes in the businesses table aren't very helpful: the descriptions of the categories are stored in the categories table.\n",
        "\n",
        "This is a common problem: for data storage, it's better to keep different types of data in different tables, but for analysis, you want all the data in one place. To solve this, you'll have to join the two tables together."
      ],
      "metadata": {
        "id": "PVVjWaJsBuwD"
      }
    },
    {
      "cell_type": "code",
      "source": [
        "%%sql\n",
        "\n",
        "-- Select business name, founding year, and country code from businesses; and category from categories\n",
        "-- where the founding year was before 1000, arranged from oldest to newest\n",
        "\n",
        "SELECT business, year_founded, b.country_code, category\n",
        "FROM businesses AS b\n",
        "INNER JOIN categories AS c\n",
        "ON b.category_code = c.category_code\n",
        "WHERE year_founded <999\n",
        "ORDER BY year_founded;"
      ],
      "metadata": {
        "id": "N5LuWANdBQ_W"
      },
      "execution_count": null,
      "outputs": []
    },
    {
      "cell_type": "code",
      "source": [
        "%%nose\n",
        "last_output = _\n",
        "\n",
        "def test_resultset():\n",
        "    try:\n",
        "        assert str(type(last_output)) == \"<class 'sql.run.ResultSet'>\"\n",
        "    except AssertionError:\n",
        "        assert False, \"Please ensure a SQL ResultSet is the output of the code cell.\"\n",
        "results = last_output.DataFrame()\n",
        "def test_shape():\n",
        "    try:\n",
        "        assert results.shape == (6, 4)\n",
        "    except AssertionError:\n",
        "        assert False, \"The results should have four columns and six rows.\"\n",
        "def test_colnames():\n",
        "    try:\n",
        "        assert results.columns.tolist() == ['business', 'year_founded', 'country_code', 'category']\n",
        "    except AssertionError:\n",
        "        assert False, \"The results should have business, year founded, and country code columns from the `businesses` table and category from the `categories` table.\"\n",
        "def test_where_year_founded_lt_1000():\n",
        "    try:\n",
        "        assert results.loc[:, 'year_founded'].max() < 1000\n",
        "    except AssertionError:\n",
        "        assert False, \"The most recent year founded is not before 1000.\"\n",
        "def test_ordered_by_year_founded():\n",
        "    try:\n",
        "        assert results.loc[:, 'year_founded'].is_monotonic\n",
        "    except AssertionError:\n",
        "        assert False, \"The rows are not ordered by increasing year founded.\""
      ],
      "metadata": {
        "id": "15kBBfTBBQ8l"
      },
      "execution_count": null,
      "outputs": []
    },
    {
      "cell_type": "markdown",
      "source": [
        "Counting the categories\n",
        "\n",
        "With that extra detail about the oldest businesses, we can see that Kongō Gumi is a construction company. In that list of six businesses, we also see a café, a winery, and a bar. The two companies recorded as \"Manufacturing and Production\" are both mints. That is, they produce currency.\n",
        "\n",
        "I'm curious as to what other industries constitute the oldest companies around the world, and which industries are most common."
      ],
      "metadata": {
        "id": "jVjMYk9KB2mS"
      }
    },
    {
      "cell_type": "code",
      "source": [
        "%%sql\n",
        "\n",
        "-- Select the category and count of category (as \"n\")\n",
        "-- arranged by descending count, limited to 10 most common categories\n",
        "SELECT c.category, COUNT (c.category) AS n\n",
        "FROM businesses AS b\n",
        "INNER JOIN categories AS c\n",
        "    ON b.category_code = c.category_code\n",
        "GROUP BY c.category\n",
        "ORDER BY n DESC\n",
        "LIMIT 10;"
      ],
      "metadata": {
        "id": "5_Lg4Y8qBQ5u"
      },
      "execution_count": null,
      "outputs": []
    },
    {
      "cell_type": "code",
      "source": [
        "%%nose\n",
        "last_output = _\n",
        "\n",
        "def test_resultset():\n",
        "    try:\n",
        "        assert str(type(last_output)) == \"<class 'sql.run.ResultSet'>\"\n",
        "    except AssertionError:\n",
        "        assert False, \"Please ensure a SQL ResultSet is the output of the code cell.\"\n",
        "results = last_output.DataFrame()\n",
        "def test_shape():\n",
        "    try:\n",
        "        assert results.shape == (10, 2)\n",
        "    except AssertionError:\n",
        "        assert False, \"The results should have two columns and ten rows.\"\n",
        "def test_colnames():\n",
        "    try:\n",
        "        assert results.columns.tolist() == ['category', 'n']\n",
        "    except AssertionError:\n",
        "        assert False, \"The results should have a category column and a count column named `'n'`.\"\n",
        "def test_ordered_by_desc_n():\n",
        "    try:\n",
        "        assert results.loc[:, 'n'].is_monotonic_decreasing\n",
        "    except AssertionError:\n",
        "        assert False, \"The rows are not ordered by descending count.\"\n",
        "def test_count():\n",
        "    try:\n",
        "        assert results.loc[:, 'n'].values.tolist() == [37, 22, 19, 16, 15, 7, 6, 6, 6, 4]\n",
        "    except AssertionError:\n",
        "        assert False, \"The category counts are not correct.\""
      ],
      "metadata": {
        "id": "jU8EQgmJBQ2x"
      },
      "execution_count": null,
      "outputs": []
    },
    {
      "cell_type": "markdown",
      "source": [
        "Oldest business by continent\n",
        "\n",
        "It looks like \"Banking & Finance\" is the most popular category. Maybe that's where you should aim if you want to start a thousand-year business.\n",
        "\n",
        "One thing we haven't looked at yet is where in the world these really old businesses are. To answer these questions, we'll need to join the businesses table to the countries table. Let's start by asking how old the oldest business is on each continent."
      ],
      "metadata": {
        "id": "TGROboiMB76B"
      }
    },
    {
      "cell_type": "code",
      "source": [
        "%%sql\n",
        "\n",
        "-- Select the oldest founding year (as \"oldest\") from businesses,\n",
        "-- and continent from countries\n",
        "-- for each continent, ordered from oldest to newest\n",
        "\n",
        "SELECT MIN (b.year_founded) AS oldest, c.continent\n",
        "FROM businesses AS b\n",
        "     INNER JOIN countries AS c\n",
        "        ON b.country_code = c.country_code\n",
        "GROUP BY continent\n",
        "ORDER BY oldest;"
      ],
      "metadata": {
        "id": "Ee_n8OAJBQ0N"
      },
      "execution_count": null,
      "outputs": []
    },
    {
      "cell_type": "code",
      "source": [
        "%%nose\n",
        "last_output = _\n",
        "\n",
        "def test_resultset():\n",
        "    try:\n",
        "        assert str(type(last_output)) == \"<class 'sql.run.ResultSet'>\"\n",
        "    except AssertionError:\n",
        "        assert False, \"Please ensure a SQL ResultSet is the output of the code cell.\"\n",
        "results = last_output.DataFrame()\n",
        "def test_shape():\n",
        "    try:\n",
        "        assert results.shape == (6, 2)\n",
        "    except AssertionError:\n",
        "        assert False, \"The results should have two columns and six rows.\"\n",
        "def test_colnames():\n",
        "    try:\n",
        "        assert results.columns.tolist() == ['oldest', 'continent']\n",
        "    except AssertionError:\n",
        "        assert False, \"The results should have columns named oldest, and continent.\"\n",
        "def test_ordered_by_min_year_founded():\n",
        "    try:\n",
        "        assert results.loc[:, 'oldest'].is_monotonic\n",
        "    except AssertionError:\n",
        "        assert False, \"The rows are not ordered by year founded.\"\n",
        "def test_count():\n",
        "    try:\n",
        "        assert results.loc[:, 'oldest'].values.tolist() == [578, 803, 1534, 1565, 1772, 1809]\n",
        "    except AssertionError:\n",
        "        assert False, \"The year founded values are not correct.\""
      ],
      "metadata": {
        "id": "J0EwJfX-BQxV"
      },
      "execution_count": null,
      "outputs": []
    },
    {
      "cell_type": "markdown",
      "source": [
        "Joining everything for further analysis\n",
        "\n",
        "Interesting. There's a jump in time from the older businesses in Asia and Europe to the 16th Century oldest businesses in North and South America, then to the 18th and 19th Century oldest businesses in Africa and Oceania.\n",
        "\n",
        "As mentioned earlier, when analyzing data it's often really helpful to have all the tables you want access to joined together into a single set of results that can be analyzed further. Here, that means we need to join all three tables."
      ],
      "metadata": {
        "id": "TfiJRGNbCB_s"
      }
    },
    {
      "cell_type": "code",
      "source": [
        "%%sql\n",
        "\n",
        "-- Select the business, founding year, category, country, and continent\n",
        "SELECT b.business, b.year_founded, c1.category, c2.country, c2.continent\n",
        "FROM businesses AS b\n",
        "INNER JOIN categories AS c1\n",
        "    ON b.category_code = c1.category_code\n",
        "INNER JOIN countries AS c2\n",
        "    ON b.country_code = c2.country_code"
      ],
      "metadata": {
        "id": "-NyVLJvZBQu1"
      },
      "execution_count": null,
      "outputs": []
    },
    {
      "cell_type": "code",
      "source": [
        "%%nose\n",
        "last_output = _\n",
        "\n",
        "def test_resultset():\n",
        "    try:\n",
        "        assert str(type(last_output)) == \"<class 'sql.run.ResultSet'>\"\n",
        "    except AssertionError:\n",
        "        assert False, \"Please ensure a SQL ResultSet is the output of the code cell.\"\n",
        "results = last_output.DataFrame()\n",
        "def test_shape():\n",
        "    try:\n",
        "        assert results.shape == (163, 5)\n",
        "    except AssertionError:\n",
        "        assert False, \"The results should have five columns and one hundred and sixty three rows.\"\n",
        "def test_colnames():\n",
        "    try:\n",
        "        assert results.columns.tolist() == ['business', 'year_founded', 'category', 'country', 'continent']\n",
        "    except AssertionError:\n",
        "        assert False, \"The results should have columns named business, year_founded, category, country, and continent.\""
      ],
      "metadata": {
        "id": "x_Wnp9GoBQrw"
      },
      "execution_count": null,
      "outputs": []
    },
    {
      "cell_type": "markdown",
      "source": [
        "Counting categories by continent\n",
        "\n",
        "Having businesses joined to categories and countries together means we can ask questions about both these things together. For example, which are the most common categories for the oldest businesses on each continent?"
      ],
      "metadata": {
        "id": "b3wVe_tiCJRP"
      }
    },
    {
      "cell_type": "code",
      "source": [
        "%%sql\n",
        "\n",
        "-- Count the number of businesses in each continent and category\n",
        "\n",
        "SELECT c2.continent, c1.category, COUNT(*) AS n\n",
        "FROM businesses AS b\n",
        "INNER JOIN categories AS c1\n",
        "    ON b.category_code = c1.category_code\n",
        "INNER JOIN countries AS c2\n",
        "    ON b.country_code = c2.country_code\n",
        "GROUP BY c2.continent, c1.category\n",
        "ORDER BY c2.continent"
      ],
      "metadata": {
        "id": "XwiPc3V6CJjI"
      },
      "execution_count": null,
      "outputs": []
    },
    {
      "cell_type": "code",
      "source": [
        "%%nose\n",
        "last_output = _\n",
        "\n",
        "def test_resultset():\n",
        "    try:\n",
        "        assert str(type(last_output)) == \"<class 'sql.run.ResultSet'>\"\n",
        "    except AssertionError:\n",
        "        assert False, \"Please ensure a SQL ResultSet is the output of the code cell.\"\n",
        "results = last_output.DataFrame()\n",
        "def test_shape():\n",
        "    try:\n",
        "        assert results.shape == (56, 3)\n",
        "    except AssertionError:\n",
        "        assert False, \"The results should have three columns and fifty six rows.\"\n",
        "def test_colnames():\n",
        "    try:\n",
        "        assert results.columns.tolist() == ['continent', 'category', 'n']\n",
        "    except AssertionError:\n",
        "        assert False, \"The results should have continent, category, and count (as 'n').\"\n",
        "def test_count():\n",
        "    try:\n",
        "        assert results.loc[:, 'n'].sort_values(ascending=False).values.tolist() == [17, 12, 10, 9, 8, 7, 6, 5, 5, 4, 4, 4, 3, 3, 3, 3, 3, 3, 3, 3, 3, 2, 2, 2, 2, 2, 2, 2, 2, 2, 2, 1, 1, 1, 1, 1, 1, 1, 1, 1, 1, 1, 1, 1, 1, 1, 1, 1, 1, 1, 1, 1, 1, 1, 1, 1]\n",
        "    except AssertionError:\n",
        "        assert False, \"The counts are not correct.\""
      ],
      "metadata": {
        "id": "fTuy4g1OCKSX"
      },
      "execution_count": null,
      "outputs": []
    },
    {
      "cell_type": "markdown",
      "source": [
        "Filtering counts by continent and category\n",
        "\n",
        "Combining continent and business category led to a lot of results. It's difficult to see what is important. To trim this down to a manageable size, let's restrict the results to only continent/category pairs with a high count."
      ],
      "metadata": {
        "id": "6OUrxaJbCRa2"
      }
    },
    {
      "cell_type": "code",
      "source": [
        "%%sql\n",
        "\n",
        "-- Repeat that previous query, filtering for results having a count greater than 5\n",
        "\n",
        "SELECT c2.continent, c1.category, COUNT(*) AS n\n",
        "FROM businesses AS b\n",
        "INNER JOIN categories AS c1\n",
        "    ON b.category_code = c1.category_code\n",
        "INNER JOIN countries AS c2\n",
        "    ON b.country_code = c2.country_code\n",
        "GROUP BY c2.continent, c1.category\n",
        "HAVING COUNT(*) > 5\n",
        "ORDER BY n DESC"
      ],
      "metadata": {
        "id": "ncmYIWdkCKPg"
      },
      "execution_count": null,
      "outputs": []
    },
    {
      "cell_type": "code",
      "source": [
        "%%nose\n",
        "last_output = _\n",
        "\n",
        "def test_resultset():\n",
        "    try:\n",
        "        assert str(type(last_output)) == \"<class 'sql.run.ResultSet'>\"\n",
        "    except AssertionError:\n",
        "        assert False, \"Please ensure a SQL ResultSet is the output of the code cell.\"\n",
        "results = last_output.DataFrame()\n",
        "def test_shape():\n",
        "    try:\n",
        "        assert results.shape == (7, 3)\n",
        "    except AssertionError:\n",
        "        assert False, \"The results should have three columns and seven rows.\"\n",
        "def test_colnames():\n",
        "    try:\n",
        "        assert results.columns.tolist() == ['continent', 'category', 'n']\n",
        "    except AssertionError:\n",
        "        assert False, \"The results should have continent, category, and count (as 'n').\"\n",
        "def test_count():\n",
        "    try:\n",
        "        assert results.loc[:, 'n'].values.tolist() == [17, 12, 10, 9, 8, 7, 6]\n",
        "    except AssertionError:\n",
        "        assert False, \"The counts are not correct.\""
      ],
      "metadata": {
        "id": "C8JcoMQ5CKM4"
      },
      "execution_count": null,
      "outputs": []
    }
  ],
  "metadata": {
    "colab": {
      "name": "Welcome To Colab",
      "provenance": []
    },
    "kernelspec": {
      "display_name": "Python 3",
      "name": "python3"
    }
  },
  "nbformat": 4,
  "nbformat_minor": 0
}